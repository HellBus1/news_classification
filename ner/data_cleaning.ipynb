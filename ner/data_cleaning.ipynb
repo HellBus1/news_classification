{
 "cells": [
  {
   "cell_type": "code",
   "execution_count": 17,
   "metadata": {},
   "outputs": [],
   "source": [
    "import re\n",
    "import pandas as pd"
   ]
  },
  {
   "cell_type": "code",
   "execution_count": 18,
   "metadata": {},
   "outputs": [],
   "source": [
    "def preprocessing(text):\n",
    "    s = str(text)\n",
    "    s = s.lower()\n",
    "    s = s.replace('\\n', ' ')\n",
    "    s = s.replace('\\r', ' ')\n",
    "    s = s.replace('\\- ', '')\n",
    "    tokens = [token for token in s.split(\" \") if token != \"\"]\n",
    "\n",
    "    # Stopwords checking\n",
    "    T = [t for t in tokens]\n",
    "    return ' '.join(T)"
   ]
  },
  {
   "cell_type": "code",
   "execution_count": 10,
   "metadata": {},
   "outputs": [
    {
     "data": {
      "text/html": [
       "<div>\n",
       "<style scoped>\n",
       "    .dataframe tbody tr th:only-of-type {\n",
       "        vertical-align: middle;\n",
       "    }\n",
       "\n",
       "    .dataframe tbody tr th {\n",
       "        vertical-align: top;\n",
       "    }\n",
       "\n",
       "    .dataframe thead th {\n",
       "        text-align: right;\n",
       "    }\n",
       "</style>\n",
       "<table border=\"1\" class=\"dataframe\">\n",
       "  <thead>\n",
       "    <tr style=\"text-align: right;\">\n",
       "      <th></th>\n",
       "      <th>title</th>\n",
       "      <th>date</th>\n",
       "      <th>description</th>\n",
       "      <th>source</th>\n",
       "    </tr>\n",
       "  </thead>\n",
       "  <tbody>\n",
       "    <tr>\n",
       "      <th>0</th>\n",
       "      <td>Sempat Tertutup Longsor, Akses Jalan Citengah ...</td>\n",
       "      <td>Rabu, 20 Apr 2022 11:22 WIB</td>\n",
       "      <td>\\-\\n\\nRuas jalan Citengah di Desa Baginda, Kec...</td>\n",
       "      <td>www.detik.com</td>\n",
       "    </tr>\n",
       "    <tr>\n",
       "      <th>1</th>\n",
       "      <td>Hujan Deras, Tebing Tol Pandaan Arah Malang Lo...</td>\n",
       "      <td>Selasa, 08 Mar 2022 16:24 WIB</td>\n",
       "      <td>\\-\\n\\nTebing di Tol Pandaan-Malang KM 77 hingg...</td>\n",
       "      <td>www.detik.com</td>\n",
       "    </tr>\n",
       "    <tr>\n",
       "      <th>2</th>\n",
       "      <td>Tebing 10 Meter Longsor Timpa Rumah di Trenggalek</td>\n",
       "      <td>Minggu, 27 Mar 2022 19:42 WIB</td>\n",
       "      <td>\\-\\n\\nLongsor kembali terjadi di Trenggalek. K...</td>\n",
       "      <td>www.detik.com</td>\n",
       "    </tr>\n",
       "    <tr>\n",
       "      <th>3</th>\n",
       "      <td>Luhut Klaim Tak Bahas Politik dengan Ganjar: M...</td>\n",
       "      <td>Kamis, 09 Jun 2022 13:30 WIB</td>\n",
       "      <td>\\-\\n\\nMenko Kemaritiman dan Investasi Luhut Bi...</td>\n",
       "      <td>www.detik.com</td>\n",
       "    </tr>\n",
       "    <tr>\n",
       "      <th>4</th>\n",
       "      <td>Gerai ATM di Bekasi Terbakar, Diduga karena Ko...</td>\n",
       "      <td>Rabu, 27 Apr 2022 10:22 WIB</td>\n",
       "      <td>\\-\\n\\nSebuah ruangan ATM milik salah satu bank...</td>\n",
       "      <td>www.detik.com</td>\n",
       "    </tr>\n",
       "  </tbody>\n",
       "</table>\n",
       "</div>"
      ],
      "text/plain": [
       "                                               title  \\\n",
       "0  Sempat Tertutup Longsor, Akses Jalan Citengah ...   \n",
       "1  Hujan Deras, Tebing Tol Pandaan Arah Malang Lo...   \n",
       "2  Tebing 10 Meter Longsor Timpa Rumah di Trenggalek   \n",
       "3  Luhut Klaim Tak Bahas Politik dengan Ganjar: M...   \n",
       "4  Gerai ATM di Bekasi Terbakar, Diduga karena Ko...   \n",
       "\n",
       "                            date  \\\n",
       "0    Rabu, 20 Apr 2022 11:22 WIB   \n",
       "1  Selasa, 08 Mar 2022 16:24 WIB   \n",
       "2  Minggu, 27 Mar 2022 19:42 WIB   \n",
       "3   Kamis, 09 Jun 2022 13:30 WIB   \n",
       "4    Rabu, 27 Apr 2022 10:22 WIB   \n",
       "\n",
       "                                         description         source  \n",
       "0  \\-\\n\\nRuas jalan Citengah di Desa Baginda, Kec...  www.detik.com  \n",
       "1  \\-\\n\\nTebing di Tol Pandaan-Malang KM 77 hingg...  www.detik.com  \n",
       "2  \\-\\n\\nLongsor kembali terjadi di Trenggalek. K...  www.detik.com  \n",
       "3  \\-\\n\\nMenko Kemaritiman dan Investasi Luhut Bi...  www.detik.com  \n",
       "4  \\-\\n\\nSebuah ruangan ATM milik salah satu bank...  www.detik.com  "
      ]
     },
     "execution_count": 10,
     "metadata": {},
     "output_type": "execute_result"
    }
   ],
   "source": [
    "df = pd.read_csv('df_test.csv')\n",
    "df.head()"
   ]
  },
  {
   "cell_type": "code",
   "execution_count": 13,
   "metadata": {},
   "outputs": [],
   "source": [
    "for x in range(0, df.shape[0]):\n",
    "    desc = preprocessing(df.iloc[x, -2])\n",
    "    df.iloc[x, -2] = desc\n",
    "\n",
    "    title = preprocessing(df.iloc[x, 0])\n",
    "    df.iloc[x, 0] = title"
   ]
  },
  {
   "cell_type": "code",
   "execution_count": 14,
   "metadata": {},
   "outputs": [
    {
     "data": {
      "text/html": [
       "<div>\n",
       "<style scoped>\n",
       "    .dataframe tbody tr th:only-of-type {\n",
       "        vertical-align: middle;\n",
       "    }\n",
       "\n",
       "    .dataframe tbody tr th {\n",
       "        vertical-align: top;\n",
       "    }\n",
       "\n",
       "    .dataframe thead th {\n",
       "        text-align: right;\n",
       "    }\n",
       "</style>\n",
       "<table border=\"1\" class=\"dataframe\">\n",
       "  <thead>\n",
       "    <tr style=\"text-align: right;\">\n",
       "      <th></th>\n",
       "      <th>title</th>\n",
       "      <th>date</th>\n",
       "      <th>description</th>\n",
       "      <th>source</th>\n",
       "    </tr>\n",
       "  </thead>\n",
       "  <tbody>\n",
       "    <tr>\n",
       "      <th>0</th>\n",
       "      <td>sempat tertutup longsor, akses jalan citengah ...</td>\n",
       "      <td>Rabu, 20 Apr 2022 11:22 WIB</td>\n",
       "      <td>ruas jalan citengah di desa baginda, kecamatan...</td>\n",
       "      <td>www.detik.com</td>\n",
       "    </tr>\n",
       "    <tr>\n",
       "      <th>1</th>\n",
       "      <td>hujan deras, tebing tol pandaan arah malang lo...</td>\n",
       "      <td>Selasa, 08 Mar 2022 16:24 WIB</td>\n",
       "      <td>tebing di tol pandaan-malang km 77 hingga km 7...</td>\n",
       "      <td>www.detik.com</td>\n",
       "    </tr>\n",
       "    <tr>\n",
       "      <th>2</th>\n",
       "      <td>tebing 10 meter longsor timpa rumah di trenggalek</td>\n",
       "      <td>Minggu, 27 Mar 2022 19:42 WIB</td>\n",
       "      <td>longsor kembali terjadi di trenggalek. kali in...</td>\n",
       "      <td>www.detik.com</td>\n",
       "    </tr>\n",
       "    <tr>\n",
       "      <th>3</th>\n",
       "      <td>luhut klaim tak bahas politik dengan ganjar: m...</td>\n",
       "      <td>Kamis, 09 Jun 2022 13:30 WIB</td>\n",
       "      <td>menko kemaritiman dan investasi luhut binsar p...</td>\n",
       "      <td>www.detik.com</td>\n",
       "    </tr>\n",
       "    <tr>\n",
       "      <th>4</th>\n",
       "      <td>gerai atm di bekasi terbakar, diduga karena ko...</td>\n",
       "      <td>Rabu, 27 Apr 2022 10:22 WIB</td>\n",
       "      <td>sebuah ruangan atm milik salah satu bank bumn ...</td>\n",
       "      <td>www.detik.com</td>\n",
       "    </tr>\n",
       "  </tbody>\n",
       "</table>\n",
       "</div>"
      ],
      "text/plain": [
       "                                               title  \\\n",
       "0  sempat tertutup longsor, akses jalan citengah ...   \n",
       "1  hujan deras, tebing tol pandaan arah malang lo...   \n",
       "2  tebing 10 meter longsor timpa rumah di trenggalek   \n",
       "3  luhut klaim tak bahas politik dengan ganjar: m...   \n",
       "4  gerai atm di bekasi terbakar, diduga karena ko...   \n",
       "\n",
       "                            date  \\\n",
       "0    Rabu, 20 Apr 2022 11:22 WIB   \n",
       "1  Selasa, 08 Mar 2022 16:24 WIB   \n",
       "2  Minggu, 27 Mar 2022 19:42 WIB   \n",
       "3   Kamis, 09 Jun 2022 13:30 WIB   \n",
       "4    Rabu, 27 Apr 2022 10:22 WIB   \n",
       "\n",
       "                                         description         source  \n",
       "0  ruas jalan citengah di desa baginda, kecamatan...  www.detik.com  \n",
       "1  tebing di tol pandaan-malang km 77 hingga km 7...  www.detik.com  \n",
       "2  longsor kembali terjadi di trenggalek. kali in...  www.detik.com  \n",
       "3  menko kemaritiman dan investasi luhut binsar p...  www.detik.com  \n",
       "4  sebuah ruangan atm milik salah satu bank bumn ...  www.detik.com  "
      ]
     },
     "execution_count": 14,
     "metadata": {},
     "output_type": "execute_result"
    }
   ],
   "source": [
    "df.head()"
   ]
  },
  {
   "cell_type": "code",
   "execution_count": 16,
   "metadata": {},
   "outputs": [],
   "source": [
    "df.to_excel(r'formatted_df_test.xlsx', index = False)"
   ]
  }
 ],
 "metadata": {
  "interpreter": {
   "hash": "c01a56c445f2f0d7663d58acbfb5fbb7654a2e674229658973562eb056b3b975"
  },
  "kernelspec": {
   "display_name": "Python 3.9.9 ('venv': venv)",
   "language": "python",
   "name": "python3"
  },
  "language_info": {
   "codemirror_mode": {
    "name": "ipython",
    "version": 3
   },
   "file_extension": ".py",
   "mimetype": "text/x-python",
   "name": "python",
   "nbconvert_exporter": "python",
   "pygments_lexer": "ipython3",
   "version": "3.9.9"
  },
  "orig_nbformat": 4
 },
 "nbformat": 4,
 "nbformat_minor": 2
}
