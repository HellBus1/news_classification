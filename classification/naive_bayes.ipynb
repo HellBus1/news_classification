{
 "cells": [
  {
   "cell_type": "code",
   "execution_count": 1,
   "id": "ee76d196",
   "metadata": {},
   "outputs": [],
   "source": [
    "import re\n",
    "import pandas as pd\n",
    "import numpy as np"
   ]
  },
  {
   "cell_type": "code",
   "execution_count": 2,
   "id": "d984fd0d",
   "metadata": {},
   "outputs": [
    {
     "data": {
      "text/html": [
       "<div>\n",
       "<style scoped>\n",
       "    .dataframe tbody tr th:only-of-type {\n",
       "        vertical-align: middle;\n",
       "    }\n",
       "\n",
       "    .dataframe tbody tr th {\n",
       "        vertical-align: top;\n",
       "    }\n",
       "\n",
       "    .dataframe thead th {\n",
       "        text-align: right;\n",
       "    }\n",
       "</style>\n",
       "<table border=\"1\" class=\"dataframe\">\n",
       "  <thead>\n",
       "    <tr style=\"text-align: right;\">\n",
       "      <th></th>\n",
       "      <th>0</th>\n",
       "      <th>1</th>\n",
       "      <th>2</th>\n",
       "      <th>3</th>\n",
       "      <th>4</th>\n",
       "      <th>5</th>\n",
       "    </tr>\n",
       "  </thead>\n",
       "  <tbody>\n",
       "    <tr>\n",
       "      <th>0</th>\n",
       "      <td>0</td>\n",
       "      <td>1</td>\n",
       "      <td>2</td>\n",
       "      <td>3</td>\n",
       "      <td>4</td>\n",
       "      <td>5</td>\n",
       "    </tr>\n",
       "    <tr>\n",
       "      <th>1</th>\n",
       "      <td>5 Gempa Guncang Jatim Hari Ini</td>\n",
       "      <td>\\-\\n\\nGempa di Jawa Timur terjadi 5 kali hari ...</td>\n",
       "      <td>0</td>\n",
       "      <td>0</td>\n",
       "      <td>0</td>\n",
       "      <td>0</td>\n",
       "    </tr>\n",
       "    <tr>\n",
       "      <th>2</th>\n",
       "      <td>Kekeringan, 'Jokowi' Pun Ditanam di Dasar Sung...</td>\n",
       "      <td>\\- Kemarau panjang membuat air Sungai Citarum ...</td>\n",
       "      <td>0</td>\n",
       "      <td>0</td>\n",
       "      <td>0</td>\n",
       "      <td>0</td>\n",
       "    </tr>\n",
       "    <tr>\n",
       "      <th>3</th>\n",
       "      <td>Selain Terjang SPBU, Angin Kencang juga Rusak ...</td>\n",
       "      <td>\\-\\n\\nAngin kencang yang merusak SPBU di Ambar...</td>\n",
       "      <td>0</td>\n",
       "      <td>1</td>\n",
       "      <td>15</td>\n",
       "      <td>0</td>\n",
       "    </tr>\n",
       "    <tr>\n",
       "      <th>4</th>\n",
       "      <td>Belasan Rumah dan 1 Merajan di Buleleng Rusak ...</td>\n",
       "      <td>\\-\\n\\nHujan deras disertai dengan angin kencan...</td>\n",
       "      <td>0</td>\n",
       "      <td>0</td>\n",
       "      <td>belasan</td>\n",
       "      <td>1</td>\n",
       "    </tr>\n",
       "  </tbody>\n",
       "</table>\n",
       "</div>"
      ],
      "text/plain": [
       "                                                   0  \\\n",
       "0                                                  0   \n",
       "1                     5 Gempa Guncang Jatim Hari Ini   \n",
       "2  Kekeringan, 'Jokowi' Pun Ditanam di Dasar Sung...   \n",
       "3  Selain Terjang SPBU, Angin Kencang juga Rusak ...   \n",
       "4  Belasan Rumah dan 1 Merajan di Buleleng Rusak ...   \n",
       "\n",
       "                                                   1  2  3        4  5  \n",
       "0                                                  1  2  3        4  5  \n",
       "1  \\-\\n\\nGempa di Jawa Timur terjadi 5 kali hari ...  0  0        0  0  \n",
       "2  \\- Kemarau panjang membuat air Sungai Citarum ...  0  0        0  0  \n",
       "3  \\-\\n\\nAngin kencang yang merusak SPBU di Ambar...  0  1       15  0  \n",
       "4  \\-\\n\\nHujan deras disertai dengan angin kencan...  0  0  belasan  1  "
      ]
     },
     "execution_count": 2,
     "metadata": {},
     "output_type": "execute_result"
    }
   ],
   "source": [
    "# Dataset load (CSV)\n",
    "dataset_path = './dataset/disaster.csv'\n",
    "df = pd.read_csv(dataset_path, header=None)\n",
    "df.head()"
   ]
  },
  {
   "cell_type": "code",
   "execution_count": 3,
   "id": "9f5bf838",
   "metadata": {},
   "outputs": [
    {
     "data": {
      "text/html": [
       "<div>\n",
       "<style scoped>\n",
       "    .dataframe tbody tr th:only-of-type {\n",
       "        vertical-align: middle;\n",
       "    }\n",
       "\n",
       "    .dataframe tbody tr th {\n",
       "        vertical-align: top;\n",
       "    }\n",
       "\n",
       "    .dataframe thead th {\n",
       "        text-align: right;\n",
       "    }\n",
       "</style>\n",
       "<table border=\"1\" class=\"dataframe\">\n",
       "  <thead>\n",
       "    <tr style=\"text-align: right;\">\n",
       "      <th></th>\n",
       "      <th>title</th>\n",
       "      <th>description</th>\n",
       "      <th>mati</th>\n",
       "      <th>luka</th>\n",
       "      <th>rumah</th>\n",
       "      <th>orang</th>\n",
       "    </tr>\n",
       "  </thead>\n",
       "  <tbody>\n",
       "    <tr>\n",
       "      <th>1</th>\n",
       "      <td>5 Gempa Guncang Jatim Hari Ini</td>\n",
       "      <td>\\-\\n\\nGempa di Jawa Timur terjadi 5 kali hari ...</td>\n",
       "      <td>0</td>\n",
       "      <td>0</td>\n",
       "      <td>0</td>\n",
       "      <td>0</td>\n",
       "    </tr>\n",
       "    <tr>\n",
       "      <th>2</th>\n",
       "      <td>Kekeringan, 'Jokowi' Pun Ditanam di Dasar Sung...</td>\n",
       "      <td>\\- Kemarau panjang membuat air Sungai Citarum ...</td>\n",
       "      <td>0</td>\n",
       "      <td>0</td>\n",
       "      <td>0</td>\n",
       "      <td>0</td>\n",
       "    </tr>\n",
       "    <tr>\n",
       "      <th>3</th>\n",
       "      <td>Selain Terjang SPBU, Angin Kencang juga Rusak ...</td>\n",
       "      <td>\\-\\n\\nAngin kencang yang merusak SPBU di Ambar...</td>\n",
       "      <td>0</td>\n",
       "      <td>1</td>\n",
       "      <td>15</td>\n",
       "      <td>0</td>\n",
       "    </tr>\n",
       "    <tr>\n",
       "      <th>4</th>\n",
       "      <td>Belasan Rumah dan 1 Merajan di Buleleng Rusak ...</td>\n",
       "      <td>\\-\\n\\nHujan deras disertai dengan angin kencan...</td>\n",
       "      <td>0</td>\n",
       "      <td>0</td>\n",
       "      <td>belasan</td>\n",
       "      <td>1</td>\n",
       "    </tr>\n",
       "    <tr>\n",
       "      <th>5</th>\n",
       "      <td>Gempa M 5,2 Guncang Bolsel Sulut, Tidak Berpot...</td>\n",
       "      <td>\\-\\n\\nGempa bumi berkekuatan magnitudo (M) 5,2...</td>\n",
       "      <td>0</td>\n",
       "      <td>0</td>\n",
       "      <td>0</td>\n",
       "      <td>0</td>\n",
       "    </tr>\n",
       "  </tbody>\n",
       "</table>\n",
       "</div>"
      ],
      "text/plain": [
       "                                               title  \\\n",
       "1                     5 Gempa Guncang Jatim Hari Ini   \n",
       "2  Kekeringan, 'Jokowi' Pun Ditanam di Dasar Sung...   \n",
       "3  Selain Terjang SPBU, Angin Kencang juga Rusak ...   \n",
       "4  Belasan Rumah dan 1 Merajan di Buleleng Rusak ...   \n",
       "5  Gempa M 5,2 Guncang Bolsel Sulut, Tidak Berpot...   \n",
       "\n",
       "                                         description mati luka    rumah orang  \n",
       "1  \\-\\n\\nGempa di Jawa Timur terjadi 5 kali hari ...    0    0        0     0  \n",
       "2  \\- Kemarau panjang membuat air Sungai Citarum ...    0    0        0     0  \n",
       "3  \\-\\n\\nAngin kencang yang merusak SPBU di Ambar...    0    1       15     0  \n",
       "4  \\-\\n\\nHujan deras disertai dengan angin kencan...    0    0  belasan     1  \n",
       "5  \\-\\n\\nGempa bumi berkekuatan magnitudo (M) 5,2...    0    0        0     0  "
      ]
     },
     "execution_count": 3,
     "metadata": {},
     "output_type": "execute_result"
    }
   ],
   "source": [
    "df = df.iloc[1: , :]\n",
    "col_names = ['title','description', 'mati', 'luka', 'rumah', 'orang']\n",
    "df.columns = col_names\n",
    "\n",
    "df.head()"
   ]
  },
  {
   "cell_type": "code",
   "execution_count": 4,
   "id": "d68fed5f",
   "metadata": {},
   "outputs": [
    {
     "name": "stdout",
     "output_type": "stream",
     "text": [
      "<class 'pandas.core.frame.DataFrame'>\n",
      "RangeIndex: 1450 entries, 1 to 1450\n",
      "Data columns (total 6 columns):\n",
      " #   Column       Non-Null Count  Dtype \n",
      "---  ------       --------------  ----- \n",
      " 0   title        1450 non-null   object\n",
      " 1   description  1450 non-null   object\n",
      " 2   mati         1450 non-null   object\n",
      " 3   luka         1450 non-null   object\n",
      " 4   rumah        1450 non-null   object\n",
      " 5   orang        1450 non-null   object\n",
      "dtypes: object(6)\n",
      "memory usage: 68.1+ KB\n"
     ]
    }
   ],
   "source": [
    "# View summary of dataset\n",
    "df.info()"
   ]
  },
  {
   "cell_type": "code",
   "execution_count": 5,
   "id": "0f57d651",
   "metadata": {},
   "outputs": [],
   "source": [
    "# df_rest = df.drop(['title', 'description'], axis=1)\n",
    "df_rest = df"
   ]
  },
  {
   "cell_type": "code",
   "execution_count": 6,
   "id": "f108ccce",
   "metadata": {},
   "outputs": [
    {
     "data": {
      "text/html": [
       "<div>\n",
       "<style scoped>\n",
       "    .dataframe tbody tr th:only-of-type {\n",
       "        vertical-align: middle;\n",
       "    }\n",
       "\n",
       "    .dataframe tbody tr th {\n",
       "        vertical-align: top;\n",
       "    }\n",
       "\n",
       "    .dataframe thead th {\n",
       "        text-align: right;\n",
       "    }\n",
       "</style>\n",
       "<table border=\"1\" class=\"dataframe\">\n",
       "  <thead>\n",
       "    <tr style=\"text-align: right;\">\n",
       "      <th></th>\n",
       "      <th>title</th>\n",
       "      <th>description</th>\n",
       "      <th>mati</th>\n",
       "      <th>luka</th>\n",
       "      <th>rumah</th>\n",
       "      <th>orang</th>\n",
       "    </tr>\n",
       "  </thead>\n",
       "  <tbody>\n",
       "    <tr>\n",
       "      <th>1</th>\n",
       "      <td>5 Gempa Guncang Jatim Hari Ini</td>\n",
       "      <td>\\-\\n\\nGempa di Jawa Timur terjadi 5 kali hari ...</td>\n",
       "      <td>0</td>\n",
       "      <td>0</td>\n",
       "      <td>0</td>\n",
       "      <td>0</td>\n",
       "    </tr>\n",
       "    <tr>\n",
       "      <th>2</th>\n",
       "      <td>Kekeringan. 'Jokowi' Pun Ditanam di Dasar Sung...</td>\n",
       "      <td>\\- Kemarau panjang membuat air Sungai Citarum ...</td>\n",
       "      <td>0</td>\n",
       "      <td>0</td>\n",
       "      <td>0</td>\n",
       "      <td>0</td>\n",
       "    </tr>\n",
       "    <tr>\n",
       "      <th>3</th>\n",
       "      <td>Selain Terjang SPBU. Angin Kencang juga Rusak ...</td>\n",
       "      <td>\\-\\n\\nAngin kencang yang merusak SPBU di Ambar...</td>\n",
       "      <td>0</td>\n",
       "      <td>1</td>\n",
       "      <td>15</td>\n",
       "      <td>0</td>\n",
       "    </tr>\n",
       "    <tr>\n",
       "      <th>4</th>\n",
       "      <td>Belasan Rumah dan 1 Merajan di Buleleng Rusak ...</td>\n",
       "      <td>\\-\\n\\nHujan deras disertai dengan angin kencan...</td>\n",
       "      <td>0</td>\n",
       "      <td>0</td>\n",
       "      <td>1</td>\n",
       "      <td>1</td>\n",
       "    </tr>\n",
       "    <tr>\n",
       "      <th>5</th>\n",
       "      <td>Gempa M 5.2 Guncang Bolsel Sulut. Tidak Berpot...</td>\n",
       "      <td>\\-\\n\\nGempa bumi berkekuatan magnitudo (M) 5.2...</td>\n",
       "      <td>0</td>\n",
       "      <td>0</td>\n",
       "      <td>0</td>\n",
       "      <td>0</td>\n",
       "    </tr>\n",
       "    <tr>\n",
       "      <th>...</th>\n",
       "      <td>...</td>\n",
       "      <td>...</td>\n",
       "      <td>...</td>\n",
       "      <td>...</td>\n",
       "      <td>...</td>\n",
       "      <td>...</td>\n",
       "    </tr>\n",
       "    <tr>\n",
       "      <th>1446</th>\n",
       "      <td>Begini Teknis Pemadaman Api dengan Helikopter ...</td>\n",
       "      <td>\\- Pemadaman menggunakan helikopter water bomb...</td>\n",
       "      <td>0</td>\n",
       "      <td>0</td>\n",
       "      <td>0</td>\n",
       "      <td>0</td>\n",
       "    </tr>\n",
       "    <tr>\n",
       "      <th>1447</th>\n",
       "      <td>Ruas Jalan di Utara Stasiun Delanggu Klaten Ra...</td>\n",
       "      <td>\\-\\n\\nJalan di sebelah utara Stasiun Delanggu....</td>\n",
       "      <td>0</td>\n",
       "      <td>0</td>\n",
       "      <td>0</td>\n",
       "      <td>0</td>\n",
       "    </tr>\n",
       "    <tr>\n",
       "      <th>1448</th>\n",
       "      <td>Demi Air Bersih. Warga Gunungkidul Ambil Air d...</td>\n",
       "      <td>\\- Musim kemarau yang datang lebih awal membua...</td>\n",
       "      <td>0</td>\n",
       "      <td>0</td>\n",
       "      <td>1</td>\n",
       "      <td>0</td>\n",
       "    </tr>\n",
       "    <tr>\n",
       "      <th>1449</th>\n",
       "      <td>Puluhan Rumah Terbakar. Bobby Carikan Tempat T...</td>\n",
       "      <td>\\-\\n\\nWali Kota Medan Bobby Nasution meninjau ...</td>\n",
       "      <td>0</td>\n",
       "      <td>1</td>\n",
       "      <td>10</td>\n",
       "      <td>154</td>\n",
       "    </tr>\n",
       "    <tr>\n",
       "      <th>1450</th>\n",
       "      <td>11 Bayi Baru Lahir Tewas dalam Kebakaran Rumah...</td>\n",
       "      <td>\\-\\n\\nRuangan intensif perawatan bayi di Rumah...</td>\n",
       "      <td>1</td>\n",
       "      <td>0</td>\n",
       "      <td>1</td>\n",
       "      <td>0</td>\n",
       "    </tr>\n",
       "  </tbody>\n",
       "</table>\n",
       "<p>1450 rows × 6 columns</p>\n",
       "</div>"
      ],
      "text/plain": [
       "                                                  title  \\\n",
       "1                        5 Gempa Guncang Jatim Hari Ini   \n",
       "2     Kekeringan. 'Jokowi' Pun Ditanam di Dasar Sung...   \n",
       "3     Selain Terjang SPBU. Angin Kencang juga Rusak ...   \n",
       "4     Belasan Rumah dan 1 Merajan di Buleleng Rusak ...   \n",
       "5     Gempa M 5.2 Guncang Bolsel Sulut. Tidak Berpot...   \n",
       "...                                                 ...   \n",
       "1446  Begini Teknis Pemadaman Api dengan Helikopter ...   \n",
       "1447  Ruas Jalan di Utara Stasiun Delanggu Klaten Ra...   \n",
       "1448  Demi Air Bersih. Warga Gunungkidul Ambil Air d...   \n",
       "1449  Puluhan Rumah Terbakar. Bobby Carikan Tempat T...   \n",
       "1450  11 Bayi Baru Lahir Tewas dalam Kebakaran Rumah...   \n",
       "\n",
       "                                            description mati luka rumah orang  \n",
       "1     \\-\\n\\nGempa di Jawa Timur terjadi 5 kali hari ...    0    0     0     0  \n",
       "2     \\- Kemarau panjang membuat air Sungai Citarum ...    0    0     0     0  \n",
       "3     \\-\\n\\nAngin kencang yang merusak SPBU di Ambar...    0    1    15     0  \n",
       "4     \\-\\n\\nHujan deras disertai dengan angin kencan...    0    0     1     1  \n",
       "5     \\-\\n\\nGempa bumi berkekuatan magnitudo (M) 5.2...    0    0     0     0  \n",
       "...                                                 ...  ...  ...   ...   ...  \n",
       "1446  \\- Pemadaman menggunakan helikopter water bomb...    0    0     0     0  \n",
       "1447  \\-\\n\\nJalan di sebelah utara Stasiun Delanggu....    0    0     0     0  \n",
       "1448  \\- Musim kemarau yang datang lebih awal membua...    0    0     1     0  \n",
       "1449  \\-\\n\\nWali Kota Medan Bobby Nasution meninjau ...    0    1    10   154  \n",
       "1450  \\-\\n\\nRuangan intensif perawatan bayi di Rumah...    1    0     1     0  \n",
       "\n",
       "[1450 rows x 6 columns]"
      ]
     },
     "execution_count": 6,
     "metadata": {},
     "output_type": "execute_result"
    }
   ],
   "source": [
    "# Data Cleansing\n",
    "df_rest = df_rest.replace({',': '.'}, regex=True)\n",
    "df_rest['mati'] = [re.sub(\"[^0-9]\", \"\", str(mati)) if (re.sub(\"[^0-9]\", \"\", str(mati)) != '') else 1 for mati in df_rest['mati']]\n",
    "df_rest['luka'] = [re.sub(\"[^0-9]\", \"\", str(luka)) if (re.sub(\"[^0-9]\", \"\", str(luka)) != '') else 1 for luka in df_rest['luka']]\n",
    "df_rest['rumah'] = [re.sub(\"[^0-9]\", \"\", str(rumah)) if (re.sub(\"[^0-9]\", \"\", str(rumah)) != '') else 1 for rumah in df_rest['rumah']]\n",
    "df_rest['orang'] = [re.sub(\"[^0-9]\", \"\", str(orang)) if (re.sub(\"[^0-9]\", \"\", str(orang)) != '') else 1 for orang in df_rest['orang']]\n",
    "\n",
    "df_rest\n",
    "# df_rest.to_csv('coba.csv')\n",
    "# df_rest.to_excel('coba.xlsx', index=None)"
   ]
  },
  {
   "cell_type": "code",
   "execution_count": 7,
   "id": "34ebb2e4",
   "metadata": {},
   "outputs": [],
   "source": [
    "def matiScale(matiCount: int) -> int:\n",
    "  if matiCount < 6:\n",
    "    return 1\n",
    "  elif matiCount >= 6 and matiCount < 12:\n",
    "    return 2\n",
    "  return 3\n",
    "\n",
    "def lukaScale(lukaCount: int) -> int:\n",
    "  if lukaCount < 10:\n",
    "    return 1\n",
    "  elif lukaCount >= 10 and lukaCount < 20:\n",
    "    return 2\n",
    "  return 3\n",
    "\n",
    "def rumahScale(rumahCount: int) -> int:\n",
    "  if rumahCount < 4:\n",
    "    return 1\n",
    "  elif rumahCount >= 4 and rumahCount <= 10:\n",
    "    return 2\n",
    "  return 3\n",
    "\n",
    "def orangScale(orangCount: int) -> int:\n",
    "  if orangCount < 10:\n",
    "    return 1\n",
    "  elif orangCount >= 10 and orangCount <= 20:\n",
    "    return 2\n",
    "  return 3\n",
    "\n",
    "def calculate(mati: int, luka: int, rumah: int, orang: int):\n",
    "  subtractor = 0\n",
    "  total = 0\n",
    "\n",
    "  if (mati > 0):\n",
    "    total += matiScale(matiCount=mati)\n",
    "  else:\n",
    "    subtractor += 1\n",
    "\n",
    "  if (luka > 0):\n",
    "    total += lukaScale(lukaCount=luka)\n",
    "  else:\n",
    "    subtractor += 1\n",
    "\n",
    "  if (rumah > 0):\n",
    "    total += rumahScale(rumahCount=rumah)\n",
    "  else:\n",
    "    subtractor += 1\n",
    "  \n",
    "  if (orang > 0):\n",
    "    total += orangScale(orangCount=orang)\n",
    "  else:\n",
    "    subtractor += 1\n",
    "          \n",
    "\n",
    "  divider = (4 - subtractor)\n",
    "  severityMean = 0\n",
    "\n",
    "  if (divider > 0):\n",
    "    severityMean = total / divider\n",
    "\n",
    "  if severityMean <= 1:\n",
    "    return 'rendah'\n",
    "  elif severityMean > 1 and severityMean <= 2:\n",
    "    return 'sedang'\n",
    "  else:\n",
    "    return 'parah'"
   ]
  },
  {
   "cell_type": "code",
   "execution_count": 8,
   "id": "75883965",
   "metadata": {},
   "outputs": [],
   "source": [
    "keparahanValues = []\n",
    "\n",
    "for index, row in df_rest.iterrows():\n",
    "  result = calculate(orang=int(row['orang']), \\\n",
    "      luka=int(row['luka']), \\\n",
    "        rumah=int(row['rumah']), \\\n",
    "          mati=int(row['mati']))\n",
    "  \n",
    "  keparahanValues.append(result)"
   ]
  },
  {
   "cell_type": "code",
   "execution_count": 9,
   "id": "31694382",
   "metadata": {},
   "outputs": [
    {
     "data": {
      "text/html": [
       "<div>\n",
       "<style scoped>\n",
       "    .dataframe tbody tr th:only-of-type {\n",
       "        vertical-align: middle;\n",
       "    }\n",
       "\n",
       "    .dataframe tbody tr th {\n",
       "        vertical-align: top;\n",
       "    }\n",
       "\n",
       "    .dataframe thead th {\n",
       "        text-align: right;\n",
       "    }\n",
       "</style>\n",
       "<table border=\"1\" class=\"dataframe\">\n",
       "  <thead>\n",
       "    <tr style=\"text-align: right;\">\n",
       "      <th></th>\n",
       "      <th>title</th>\n",
       "      <th>description</th>\n",
       "      <th>mati</th>\n",
       "      <th>luka</th>\n",
       "      <th>rumah</th>\n",
       "      <th>orang</th>\n",
       "      <th>keparahan</th>\n",
       "    </tr>\n",
       "  </thead>\n",
       "  <tbody>\n",
       "    <tr>\n",
       "      <th>1</th>\n",
       "      <td>5 Gempa Guncang Jatim Hari Ini</td>\n",
       "      <td>\\-\\n\\nGempa di Jawa Timur terjadi 5 kali hari ...</td>\n",
       "      <td>0</td>\n",
       "      <td>0</td>\n",
       "      <td>0</td>\n",
       "      <td>0</td>\n",
       "      <td>rendah</td>\n",
       "    </tr>\n",
       "    <tr>\n",
       "      <th>2</th>\n",
       "      <td>Kekeringan. 'Jokowi' Pun Ditanam di Dasar Sung...</td>\n",
       "      <td>\\- Kemarau panjang membuat air Sungai Citarum ...</td>\n",
       "      <td>0</td>\n",
       "      <td>0</td>\n",
       "      <td>0</td>\n",
       "      <td>0</td>\n",
       "      <td>rendah</td>\n",
       "    </tr>\n",
       "    <tr>\n",
       "      <th>3</th>\n",
       "      <td>Selain Terjang SPBU. Angin Kencang juga Rusak ...</td>\n",
       "      <td>\\-\\n\\nAngin kencang yang merusak SPBU di Ambar...</td>\n",
       "      <td>0</td>\n",
       "      <td>1</td>\n",
       "      <td>15</td>\n",
       "      <td>0</td>\n",
       "      <td>sedang</td>\n",
       "    </tr>\n",
       "    <tr>\n",
       "      <th>4</th>\n",
       "      <td>Belasan Rumah dan 1 Merajan di Buleleng Rusak ...</td>\n",
       "      <td>\\-\\n\\nHujan deras disertai dengan angin kencan...</td>\n",
       "      <td>0</td>\n",
       "      <td>0</td>\n",
       "      <td>1</td>\n",
       "      <td>1</td>\n",
       "      <td>rendah</td>\n",
       "    </tr>\n",
       "    <tr>\n",
       "      <th>5</th>\n",
       "      <td>Gempa M 5.2 Guncang Bolsel Sulut. Tidak Berpot...</td>\n",
       "      <td>\\-\\n\\nGempa bumi berkekuatan magnitudo (M) 5.2...</td>\n",
       "      <td>0</td>\n",
       "      <td>0</td>\n",
       "      <td>0</td>\n",
       "      <td>0</td>\n",
       "      <td>rendah</td>\n",
       "    </tr>\n",
       "  </tbody>\n",
       "</table>\n",
       "</div>"
      ],
      "text/plain": [
       "                                               title  \\\n",
       "1                     5 Gempa Guncang Jatim Hari Ini   \n",
       "2  Kekeringan. 'Jokowi' Pun Ditanam di Dasar Sung...   \n",
       "3  Selain Terjang SPBU. Angin Kencang juga Rusak ...   \n",
       "4  Belasan Rumah dan 1 Merajan di Buleleng Rusak ...   \n",
       "5  Gempa M 5.2 Guncang Bolsel Sulut. Tidak Berpot...   \n",
       "\n",
       "                                         description mati luka rumah orang  \\\n",
       "1  \\-\\n\\nGempa di Jawa Timur terjadi 5 kali hari ...    0    0     0     0   \n",
       "2  \\- Kemarau panjang membuat air Sungai Citarum ...    0    0     0     0   \n",
       "3  \\-\\n\\nAngin kencang yang merusak SPBU di Ambar...    0    1    15     0   \n",
       "4  \\-\\n\\nHujan deras disertai dengan angin kencan...    0    0     1     1   \n",
       "5  \\-\\n\\nGempa bumi berkekuatan magnitudo (M) 5.2...    0    0     0     0   \n",
       "\n",
       "  keparahan  \n",
       "1    rendah  \n",
       "2    rendah  \n",
       "3    sedang  \n",
       "4    rendah  \n",
       "5    rendah  "
      ]
     },
     "execution_count": 9,
     "metadata": {},
     "output_type": "execute_result"
    }
   ],
   "source": [
    "df_rest['keparahan'] = keparahanValues\n",
    "df_rest.head()"
   ]
  },
  {
   "cell_type": "code",
   "execution_count": 10,
   "id": "827f0a6b",
   "metadata": {},
   "outputs": [],
   "source": [
    "df_rest.to_csv('./dataset/hasil_keparahan.csv', index=False)\n",
    "# df_rest.to_excel('hasil_keparahan.xlsx')"
   ]
  },
  {
   "cell_type": "code",
   "execution_count": 11,
   "id": "3c29b52e",
   "metadata": {},
   "outputs": [
    {
     "data": {
      "text/html": [
       "<div>\n",
       "<style scoped>\n",
       "    .dataframe tbody tr th:only-of-type {\n",
       "        vertical-align: middle;\n",
       "    }\n",
       "\n",
       "    .dataframe tbody tr th {\n",
       "        vertical-align: top;\n",
       "    }\n",
       "\n",
       "    .dataframe thead th {\n",
       "        text-align: right;\n",
       "    }\n",
       "</style>\n",
       "<table border=\"1\" class=\"dataframe\">\n",
       "  <thead>\n",
       "    <tr style=\"text-align: right;\">\n",
       "      <th></th>\n",
       "      <th>title</th>\n",
       "      <th>description</th>\n",
       "      <th>mati</th>\n",
       "      <th>luka</th>\n",
       "      <th>rumah</th>\n",
       "      <th>orang</th>\n",
       "      <th>keparahan</th>\n",
       "    </tr>\n",
       "  </thead>\n",
       "  <tbody>\n",
       "    <tr>\n",
       "      <th>0</th>\n",
       "      <td>5 Gempa Guncang Jatim Hari Ini</td>\n",
       "      <td>\\-\\n\\nGempa di Jawa Timur terjadi 5 kali hari ...</td>\n",
       "      <td>0</td>\n",
       "      <td>0</td>\n",
       "      <td>0</td>\n",
       "      <td>0</td>\n",
       "      <td>rendah</td>\n",
       "    </tr>\n",
       "    <tr>\n",
       "      <th>1</th>\n",
       "      <td>Kekeringan. 'Jokowi' Pun Ditanam di Dasar Sung...</td>\n",
       "      <td>\\- Kemarau panjang membuat air Sungai Citarum ...</td>\n",
       "      <td>0</td>\n",
       "      <td>0</td>\n",
       "      <td>0</td>\n",
       "      <td>0</td>\n",
       "      <td>rendah</td>\n",
       "    </tr>\n",
       "    <tr>\n",
       "      <th>2</th>\n",
       "      <td>Selain Terjang SPBU. Angin Kencang juga Rusak ...</td>\n",
       "      <td>\\-\\n\\nAngin kencang yang merusak SPBU di Ambar...</td>\n",
       "      <td>0</td>\n",
       "      <td>1</td>\n",
       "      <td>15</td>\n",
       "      <td>0</td>\n",
       "      <td>sedang</td>\n",
       "    </tr>\n",
       "    <tr>\n",
       "      <th>3</th>\n",
       "      <td>Belasan Rumah dan 1 Merajan di Buleleng Rusak ...</td>\n",
       "      <td>\\-\\n\\nHujan deras disertai dengan angin kencan...</td>\n",
       "      <td>0</td>\n",
       "      <td>0</td>\n",
       "      <td>1</td>\n",
       "      <td>1</td>\n",
       "      <td>rendah</td>\n",
       "    </tr>\n",
       "    <tr>\n",
       "      <th>4</th>\n",
       "      <td>Gempa M 5.2 Guncang Bolsel Sulut. Tidak Berpot...</td>\n",
       "      <td>\\-\\n\\nGempa bumi berkekuatan magnitudo (M) 5.2...</td>\n",
       "      <td>0</td>\n",
       "      <td>0</td>\n",
       "      <td>0</td>\n",
       "      <td>0</td>\n",
       "      <td>rendah</td>\n",
       "    </tr>\n",
       "  </tbody>\n",
       "</table>\n",
       "</div>"
      ],
      "text/plain": [
       "                                               title  \\\n",
       "0                     5 Gempa Guncang Jatim Hari Ini   \n",
       "1  Kekeringan. 'Jokowi' Pun Ditanam di Dasar Sung...   \n",
       "2  Selain Terjang SPBU. Angin Kencang juga Rusak ...   \n",
       "3  Belasan Rumah dan 1 Merajan di Buleleng Rusak ...   \n",
       "4  Gempa M 5.2 Guncang Bolsel Sulut. Tidak Berpot...   \n",
       "\n",
       "                                         description  mati  luka  rumah  \\\n",
       "0  \\-\\n\\nGempa di Jawa Timur terjadi 5 kali hari ...     0     0      0   \n",
       "1  \\- Kemarau panjang membuat air Sungai Citarum ...     0     0      0   \n",
       "2  \\-\\n\\nAngin kencang yang merusak SPBU di Ambar...     0     1     15   \n",
       "3  \\-\\n\\nHujan deras disertai dengan angin kencan...     0     0      1   \n",
       "4  \\-\\n\\nGempa bumi berkekuatan magnitudo (M) 5.2...     0     0      0   \n",
       "\n",
       "   orang keparahan  \n",
       "0      0    rendah  \n",
       "1      0    rendah  \n",
       "2      0    sedang  \n",
       "3      1    rendah  \n",
       "4      0    rendah  "
      ]
     },
     "execution_count": 11,
     "metadata": {},
     "output_type": "execute_result"
    }
   ],
   "source": [
    "# Dataset load\n",
    "dataset_path = './dataset/hasil_keparahan.csv'\n",
    "df = pd.read_csv(dataset_path)\n",
    "df.head()"
   ]
  },
  {
   "cell_type": "code",
   "execution_count": 12,
   "id": "7dac754e",
   "metadata": {},
   "outputs": [
    {
     "data": {
      "text/html": [
       "<div>\n",
       "<style scoped>\n",
       "    .dataframe tbody tr th:only-of-type {\n",
       "        vertical-align: middle;\n",
       "    }\n",
       "\n",
       "    .dataframe tbody tr th {\n",
       "        vertical-align: top;\n",
       "    }\n",
       "\n",
       "    .dataframe thead th {\n",
       "        text-align: right;\n",
       "    }\n",
       "</style>\n",
       "<table border=\"1\" class=\"dataframe\">\n",
       "  <thead>\n",
       "    <tr style=\"text-align: right;\">\n",
       "      <th></th>\n",
       "      <th>mati</th>\n",
       "      <th>luka</th>\n",
       "      <th>rumah</th>\n",
       "      <th>orang</th>\n",
       "      <th>keparahan</th>\n",
       "    </tr>\n",
       "  </thead>\n",
       "  <tbody>\n",
       "    <tr>\n",
       "      <th>0</th>\n",
       "      <td>0</td>\n",
       "      <td>0</td>\n",
       "      <td>0</td>\n",
       "      <td>0</td>\n",
       "      <td>rendah</td>\n",
       "    </tr>\n",
       "    <tr>\n",
       "      <th>1</th>\n",
       "      <td>0</td>\n",
       "      <td>0</td>\n",
       "      <td>0</td>\n",
       "      <td>0</td>\n",
       "      <td>rendah</td>\n",
       "    </tr>\n",
       "    <tr>\n",
       "      <th>2</th>\n",
       "      <td>0</td>\n",
       "      <td>1</td>\n",
       "      <td>15</td>\n",
       "      <td>0</td>\n",
       "      <td>sedang</td>\n",
       "    </tr>\n",
       "    <tr>\n",
       "      <th>3</th>\n",
       "      <td>0</td>\n",
       "      <td>0</td>\n",
       "      <td>1</td>\n",
       "      <td>1</td>\n",
       "      <td>rendah</td>\n",
       "    </tr>\n",
       "    <tr>\n",
       "      <th>4</th>\n",
       "      <td>0</td>\n",
       "      <td>0</td>\n",
       "      <td>0</td>\n",
       "      <td>0</td>\n",
       "      <td>rendah</td>\n",
       "    </tr>\n",
       "  </tbody>\n",
       "</table>\n",
       "</div>"
      ],
      "text/plain": [
       "   mati  luka  rumah  orang keparahan\n",
       "0     0     0      0      0    rendah\n",
       "1     0     0      0      0    rendah\n",
       "2     0     1     15      0    sedang\n",
       "3     0     0      1      1    rendah\n",
       "4     0     0      0      0    rendah"
      ]
     },
     "execution_count": 12,
     "metadata": {},
     "output_type": "execute_result"
    }
   ],
   "source": [
    "df_rest = df.drop(['title', 'description'], axis=1)\n",
    "df_rest.head()"
   ]
  },
  {
   "cell_type": "code",
   "execution_count": 13,
   "id": "9df0eb94",
   "metadata": {},
   "outputs": [],
   "source": [
    "# Declare feature vector and target variable\n",
    "X = df_rest.drop(['keparahan'], axis=1)\n",
    "y = df_rest['keparahan']"
   ]
  },
  {
   "cell_type": "code",
   "execution_count": 14,
   "id": "a2ab3387",
   "metadata": {},
   "outputs": [],
   "source": [
    "# Split X and y into training and testing sets\n",
    "\n",
    "from sklearn.model_selection import train_test_split\n",
    "\n",
    "X_train, X_test, y_train, y_test = train_test_split(X, y, test_size = 0.3, random_state = 0)"
   ]
  },
  {
   "cell_type": "code",
   "execution_count": 15,
   "id": "8cbfc2d0",
   "metadata": {},
   "outputs": [
    {
     "data": {
      "text/plain": [
       "((1015, 4), (435, 4))"
      ]
     },
     "execution_count": 15,
     "metadata": {},
     "output_type": "execute_result"
    }
   ],
   "source": [
    "# Check the shape of X_train and X_test\n",
    "\n",
    "X_train.shape, X_test.shape"
   ]
  },
  {
   "cell_type": "code",
   "execution_count": 16,
   "id": "dcb4ad71",
   "metadata": {},
   "outputs": [],
   "source": [
    "from sklearn.preprocessing import RobustScaler\n",
    "\n",
    "scaler = RobustScaler()\n",
    "\n",
    "X_train = scaler.fit_transform(X_train)\n",
    "X_test = scaler.transform(X_test)"
   ]
  },
  {
   "cell_type": "code",
   "execution_count": 17,
   "id": "0db7d404",
   "metadata": {},
   "outputs": [
    {
     "data": {
      "text/html": [
       "<style>#sk-container-id-1 {color: black;background-color: white;}#sk-container-id-1 pre{padding: 0;}#sk-container-id-1 div.sk-toggleable {background-color: white;}#sk-container-id-1 label.sk-toggleable__label {cursor: pointer;display: block;width: 100%;margin-bottom: 0;padding: 0.3em;box-sizing: border-box;text-align: center;}#sk-container-id-1 label.sk-toggleable__label-arrow:before {content: \"▸\";float: left;margin-right: 0.25em;color: #696969;}#sk-container-id-1 label.sk-toggleable__label-arrow:hover:before {color: black;}#sk-container-id-1 div.sk-estimator:hover label.sk-toggleable__label-arrow:before {color: black;}#sk-container-id-1 div.sk-toggleable__content {max-height: 0;max-width: 0;overflow: hidden;text-align: left;background-color: #f0f8ff;}#sk-container-id-1 div.sk-toggleable__content pre {margin: 0.2em;color: black;border-radius: 0.25em;background-color: #f0f8ff;}#sk-container-id-1 input.sk-toggleable__control:checked~div.sk-toggleable__content {max-height: 200px;max-width: 100%;overflow: auto;}#sk-container-id-1 input.sk-toggleable__control:checked~label.sk-toggleable__label-arrow:before {content: \"▾\";}#sk-container-id-1 div.sk-estimator input.sk-toggleable__control:checked~label.sk-toggleable__label {background-color: #d4ebff;}#sk-container-id-1 div.sk-label input.sk-toggleable__control:checked~label.sk-toggleable__label {background-color: #d4ebff;}#sk-container-id-1 input.sk-hidden--visually {border: 0;clip: rect(1px 1px 1px 1px);clip: rect(1px, 1px, 1px, 1px);height: 1px;margin: -1px;overflow: hidden;padding: 0;position: absolute;width: 1px;}#sk-container-id-1 div.sk-estimator {font-family: monospace;background-color: #f0f8ff;border: 1px dotted black;border-radius: 0.25em;box-sizing: border-box;margin-bottom: 0.5em;}#sk-container-id-1 div.sk-estimator:hover {background-color: #d4ebff;}#sk-container-id-1 div.sk-parallel-item::after {content: \"\";width: 100%;border-bottom: 1px solid gray;flex-grow: 1;}#sk-container-id-1 div.sk-label:hover label.sk-toggleable__label {background-color: #d4ebff;}#sk-container-id-1 div.sk-serial::before {content: \"\";position: absolute;border-left: 1px solid gray;box-sizing: border-box;top: 0;bottom: 0;left: 50%;z-index: 0;}#sk-container-id-1 div.sk-serial {display: flex;flex-direction: column;align-items: center;background-color: white;padding-right: 0.2em;padding-left: 0.2em;position: relative;}#sk-container-id-1 div.sk-item {position: relative;z-index: 1;}#sk-container-id-1 div.sk-parallel {display: flex;align-items: stretch;justify-content: center;background-color: white;position: relative;}#sk-container-id-1 div.sk-item::before, #sk-container-id-1 div.sk-parallel-item::before {content: \"\";position: absolute;border-left: 1px solid gray;box-sizing: border-box;top: 0;bottom: 0;left: 50%;z-index: -1;}#sk-container-id-1 div.sk-parallel-item {display: flex;flex-direction: column;z-index: 1;position: relative;background-color: white;}#sk-container-id-1 div.sk-parallel-item:first-child::after {align-self: flex-end;width: 50%;}#sk-container-id-1 div.sk-parallel-item:last-child::after {align-self: flex-start;width: 50%;}#sk-container-id-1 div.sk-parallel-item:only-child::after {width: 0;}#sk-container-id-1 div.sk-dashed-wrapped {border: 1px dashed gray;margin: 0 0.4em 0.5em 0.4em;box-sizing: border-box;padding-bottom: 0.4em;background-color: white;}#sk-container-id-1 div.sk-label label {font-family: monospace;font-weight: bold;display: inline-block;line-height: 1.2em;}#sk-container-id-1 div.sk-label-container {text-align: center;}#sk-container-id-1 div.sk-container {/* jupyter's `normalize.less` sets `[hidden] { display: none; }` but bootstrap.min.css set `[hidden] { display: none !important; }` so we also need the `!important` here to be able to override the default hidden behavior on the sphinx rendered scikit-learn.org. See: https://github.com/scikit-learn/scikit-learn/issues/21755 */display: inline-block !important;position: relative;}#sk-container-id-1 div.sk-text-repr-fallback {display: none;}</style><div id=\"sk-container-id-1\" class=\"sk-top-container\"><div class=\"sk-text-repr-fallback\"><pre>GaussianNB()</pre><b>In a Jupyter environment, please rerun this cell to show the HTML representation or trust the notebook. <br />On GitHub, the HTML representation is unable to render, please try loading this page with nbviewer.org.</b></div><div class=\"sk-container\" hidden><div class=\"sk-item\"><div class=\"sk-estimator sk-toggleable\"><input class=\"sk-toggleable__control sk-hidden--visually\" id=\"sk-estimator-id-1\" type=\"checkbox\" checked><label for=\"sk-estimator-id-1\" class=\"sk-toggleable__label sk-toggleable__label-arrow\">GaussianNB</label><div class=\"sk-toggleable__content\"><pre>GaussianNB()</pre></div></div></div></div></div>"
      ],
      "text/plain": [
       "GaussianNB()"
      ]
     },
     "execution_count": 17,
     "metadata": {},
     "output_type": "execute_result"
    }
   ],
   "source": [
    "# Model training\n",
    "from sklearn.naive_bayes import GaussianNB\n",
    "\n",
    "## Instantiate the model\n",
    "gnb = GaussianNB()\n",
    "\n",
    "## Fit the model\n",
    "gnb.fit(X_train, y_train)"
   ]
  },
  {
   "cell_type": "code",
   "execution_count": 18,
   "id": "48ac6f72",
   "metadata": {},
   "outputs": [
    {
     "data": {
      "text/plain": [
       "array(['rendah', 'rendah', 'rendah', 'rendah', 'rendah', 'rendah',\n",
       "       'parah', 'rendah', 'parah', 'rendah', 'rendah', 'rendah', 'rendah',\n",
       "       'rendah', 'rendah', 'rendah', 'rendah', 'rendah', 'rendah',\n",
       "       'rendah', 'rendah', 'rendah', 'rendah', 'rendah', 'rendah',\n",
       "       'rendah', 'parah', 'rendah', 'rendah', 'rendah', 'sedang',\n",
       "       'rendah', 'parah', 'rendah', 'parah', 'rendah', 'parah', 'rendah',\n",
       "       'parah', 'parah', 'rendah', 'rendah', 'rendah', 'rendah', 'rendah',\n",
       "       'rendah', 'rendah', 'rendah', 'rendah', 'rendah', 'rendah',\n",
       "       'rendah', 'rendah', 'rendah', 'rendah', 'rendah', 'rendah',\n",
       "       'rendah', 'rendah', 'rendah', 'rendah', 'rendah', 'rendah',\n",
       "       'rendah', 'rendah', 'rendah', 'rendah', 'rendah', 'rendah',\n",
       "       'rendah', 'rendah', 'rendah', 'rendah', 'rendah', 'rendah',\n",
       "       'rendah', 'rendah', 'rendah', 'rendah', 'rendah', 'rendah',\n",
       "       'rendah', 'rendah', 'rendah', 'rendah', 'rendah', 'sedang',\n",
       "       'parah', 'rendah', 'rendah', 'parah', 'rendah', 'rendah', 'rendah',\n",
       "       'rendah', 'rendah', 'rendah', 'rendah', 'rendah', 'parah',\n",
       "       'rendah', 'parah', 'rendah', 'rendah', 'rendah', 'rendah',\n",
       "       'rendah', 'rendah', 'rendah', 'parah', 'parah', 'rendah', 'rendah',\n",
       "       'rendah', 'rendah', 'rendah', 'rendah', 'rendah', 'rendah',\n",
       "       'rendah', 'rendah', 'parah', 'rendah', 'parah', 'rendah', 'rendah',\n",
       "       'rendah', 'rendah', 'rendah', 'rendah', 'parah', 'rendah',\n",
       "       'rendah', 'parah', 'rendah', 'parah', 'rendah', 'rendah', 'rendah',\n",
       "       'rendah', 'parah', 'rendah', 'rendah', 'rendah', 'rendah',\n",
       "       'rendah', 'parah', 'rendah', 'rendah', 'rendah', 'rendah',\n",
       "       'rendah', 'rendah', 'rendah', 'rendah', 'rendah', 'rendah',\n",
       "       'rendah', 'parah', 'rendah', 'rendah', 'rendah', 'parah', 'parah',\n",
       "       'rendah', 'parah', 'rendah', 'rendah', 'rendah', 'rendah',\n",
       "       'rendah', 'rendah', 'parah', 'rendah', 'rendah', 'parah', 'rendah',\n",
       "       'rendah', 'rendah', 'rendah', 'rendah', 'rendah', 'rendah',\n",
       "       'rendah', 'rendah', 'rendah', 'rendah', 'rendah', 'rendah',\n",
       "       'rendah', 'rendah', 'rendah', 'rendah', 'parah', 'rendah',\n",
       "       'rendah', 'rendah', 'rendah', 'rendah', 'rendah', 'rendah',\n",
       "       'rendah', 'rendah', 'sedang', 'rendah', 'rendah', 'rendah',\n",
       "       'rendah', 'rendah', 'rendah', 'rendah', 'rendah', 'rendah',\n",
       "       'rendah', 'rendah', 'rendah', 'rendah', 'rendah', 'rendah',\n",
       "       'rendah', 'rendah', 'rendah', 'rendah', 'rendah', 'rendah',\n",
       "       'rendah', 'rendah', 'rendah', 'rendah', 'rendah', 'rendah',\n",
       "       'rendah', 'rendah', 'rendah', 'rendah', 'rendah', 'rendah',\n",
       "       'rendah', 'rendah', 'rendah', 'rendah', 'rendah', 'rendah',\n",
       "       'rendah', 'rendah', 'rendah', 'rendah', 'rendah', 'rendah',\n",
       "       'sedang', 'rendah', 'parah', 'rendah', 'rendah', 'parah', 'rendah',\n",
       "       'rendah', 'rendah', 'rendah', 'rendah', 'rendah', 'rendah',\n",
       "       'rendah', 'rendah', 'rendah', 'rendah', 'rendah', 'parah',\n",
       "       'rendah', 'rendah', 'rendah', 'rendah', 'rendah', 'rendah',\n",
       "       'parah', 'rendah', 'rendah', 'rendah', 'rendah', 'rendah',\n",
       "       'rendah', 'rendah', 'rendah', 'rendah', 'rendah', 'rendah',\n",
       "       'rendah', 'rendah', 'rendah', 'rendah', 'rendah', 'rendah',\n",
       "       'rendah', 'rendah', 'rendah', 'rendah', 'rendah', 'rendah',\n",
       "       'rendah', 'sedang', 'rendah', 'rendah', 'rendah', 'rendah',\n",
       "       'rendah', 'rendah', 'parah', 'rendah', 'parah', 'rendah', 'parah',\n",
       "       'rendah', 'rendah', 'rendah', 'rendah', 'rendah', 'rendah',\n",
       "       'rendah', 'parah', 'rendah', 'rendah', 'rendah', 'rendah',\n",
       "       'rendah', 'rendah', 'rendah', 'rendah', 'rendah', 'rendah',\n",
       "       'rendah', 'rendah', 'rendah', 'rendah', 'rendah', 'rendah',\n",
       "       'parah', 'rendah', 'rendah', 'rendah', 'rendah', 'rendah',\n",
       "       'rendah', 'rendah', 'rendah', 'rendah', 'rendah', 'rendah',\n",
       "       'rendah', 'rendah', 'rendah', 'rendah', 'rendah', 'rendah',\n",
       "       'rendah', 'parah', 'rendah', 'rendah', 'rendah', 'rendah',\n",
       "       'rendah', 'rendah', 'rendah', 'rendah', 'rendah', 'rendah',\n",
       "       'rendah', 'rendah', 'rendah', 'rendah', 'rendah', 'rendah',\n",
       "       'rendah', 'rendah', 'rendah', 'rendah', 'parah', 'rendah',\n",
       "       'rendah', 'rendah', 'parah', 'rendah', 'rendah', 'parah', 'rendah',\n",
       "       'rendah', 'rendah', 'rendah', 'rendah', 'parah', 'rendah',\n",
       "       'rendah', 'rendah', 'rendah', 'rendah', 'rendah', 'rendah',\n",
       "       'rendah', 'rendah', 'rendah', 'rendah', 'rendah', 'rendah',\n",
       "       'rendah', 'rendah', 'rendah', 'rendah', 'rendah', 'rendah',\n",
       "       'rendah', 'rendah', 'rendah', 'rendah', 'rendah', 'parah',\n",
       "       'rendah', 'rendah', 'rendah', 'rendah', 'parah', 'rendah',\n",
       "       'rendah', 'rendah', 'rendah', 'rendah', 'rendah', 'rendah',\n",
       "       'rendah', 'rendah', 'rendah', 'rendah', 'rendah', 'rendah',\n",
       "       'parah', 'rendah', 'rendah'], dtype='<U6')"
      ]
     },
     "execution_count": 18,
     "metadata": {},
     "output_type": "execute_result"
    }
   ],
   "source": [
    "y_pred = gnb.predict(X_test)\n",
    "\n",
    "y_pred"
   ]
  },
  {
   "cell_type": "code",
   "execution_count": 19,
   "id": "7fa1091a",
   "metadata": {},
   "outputs": [
    {
     "name": "stdout",
     "output_type": "stream",
     "text": [
      "Model accuracy score : 0.8460\n"
     ]
    }
   ],
   "source": [
    "# Check accuracy score\n",
    "from sklearn.metrics import accuracy_score\n",
    "\n",
    "print('Model accuracy score : {0:0.4f}'.format(accuracy_score(y_test, y_pred)))"
   ]
  },
  {
   "cell_type": "code",
   "execution_count": 20,
   "id": "8ea9cf7d",
   "metadata": {},
   "outputs": [
    {
     "data": {
      "text/plain": [
       "array(['rendah', 'rendah', 'rendah', ..., 'rendah', 'rendah', 'rendah'],\n",
       "      dtype='<U6')"
      ]
     },
     "execution_count": 20,
     "metadata": {},
     "output_type": "execute_result"
    }
   ],
   "source": [
    "y_pred_train = gnb.predict(X_train)\n",
    "\n",
    "y_pred_train"
   ]
  },
  {
   "cell_type": "code",
   "execution_count": 21,
   "id": "20ba5522",
   "metadata": {},
   "outputs": [
    {
     "name": "stdout",
     "output_type": "stream",
     "text": [
      "Training-set accuracy score: 0.8355\n"
     ]
    }
   ],
   "source": [
    "print('Training-set accuracy score: {0:0.4f}'. format(accuracy_score(y_train, y_pred_train)))"
   ]
  },
  {
   "cell_type": "code",
   "execution_count": 22,
   "id": "f54e5e70",
   "metadata": {},
   "outputs": [
    {
     "name": "stdout",
     "output_type": "stream",
     "text": [
      "Training set score: 0.8355\n",
      "Test set score: 0.8460\n"
     ]
    }
   ],
   "source": [
    "# Print the scores on training and test set\n",
    "print('Training set score: {:.4f}'.format(gnb.score(X_train, y_train)))\n",
    "print('Test set score: {:.4f}'.format(gnb.score(X_test, y_test)))"
   ]
  },
  {
   "cell_type": "code",
   "execution_count": 23,
   "id": "c56701f0",
   "metadata": {},
   "outputs": [
    {
     "data": {
      "text/plain": [
       "rendah    350\n",
       "sedang     64\n",
       "parah      21\n",
       "Name: keparahan, dtype: int64"
      ]
     },
     "execution_count": 23,
     "metadata": {},
     "output_type": "execute_result"
    }
   ],
   "source": [
    "# Check class distribution in test set\n",
    "y_test.value_counts()"
   ]
  },
  {
   "cell_type": "code",
   "execution_count": 24,
   "id": "74f151f3",
   "metadata": {},
   "outputs": [
    {
     "name": "stdout",
     "output_type": "stream",
     "text": [
      "Null accuracy score: 0.7582\n"
     ]
    }
   ],
   "source": [
    "# Check null accuracy score\n",
    "\n",
    "null_accuracy = (7407/(7407+2362))\n",
    "print('Null accuracy score: {0:0.4f}'. format(null_accuracy))"
   ]
  },
  {
   "cell_type": "code",
   "execution_count": 25,
   "id": "00ad6d80",
   "metadata": {},
   "outputs": [],
   "source": [
    "# # Print the Confusion Matrix and slice it into four pieces\n",
    "# from sklearn.svm import SVC\n",
    "# from sklearn.metrics import confusion_matrix\n",
    "# import matplotlib.pyplot as plt # for data visualization purposes\n",
    "# import seaborn as sns # for statistical data visualization\n",
    "# %matplotlib inline"
   ]
  },
  {
   "cell_type": "code",
   "execution_count": 26,
   "id": "26476ece",
   "metadata": {},
   "outputs": [],
   "source": [
    "# clf = SVC(kernel = 'linear').fit(X_train,y_train)\n",
    "# clf.predict(X_train)\n",
    "\n",
    "# y_pred = clf.predict(X_test)\n",
    "\n",
    "# cm = confusion_matrix(y_test, y_pred)\n",
    "# cm_df = pd.DataFrame(cm,\n",
    "#                      index = ['rendah','sedang','parah'], \n",
    "#                      columns = ['rendah','sedang','parah'])"
   ]
  },
  {
   "cell_type": "code",
   "execution_count": 27,
   "id": "a391441b",
   "metadata": {},
   "outputs": [],
   "source": [
    "# #Plotting the confusion matrix\n",
    "# plt.figure(figsize=(5,4))\n",
    "# sns.heatmap(cm_df, annot=True)\n",
    "# plt.title('Confusion Matrix')\n",
    "# plt.ylabel('Actal Values')\n",
    "# plt.xlabel('Predicted Values')\n",
    "# plt.show()"
   ]
  },
  {
   "cell_type": "code",
   "execution_count": 28,
   "id": "4e4e0a67",
   "metadata": {},
   "outputs": [
    {
     "name": "stdout",
     "output_type": "stream",
     "text": [
      "              precision    recall  f1-score   support\n",
      "\n",
      "       parah       0.38      0.81      0.52        21\n",
      "      rendah       0.91      1.00      0.95       350\n",
      "      sedang       0.20      0.02      0.03        64\n",
      "\n",
      "    accuracy                           0.85       435\n",
      "   macro avg       0.50      0.61      0.50       435\n",
      "weighted avg       0.78      0.85      0.80       435\n",
      "\n"
     ]
    }
   ],
   "source": [
    "from sklearn.metrics import classification_report\n",
    "\n",
    "print(classification_report(y_test, y_pred))"
   ]
  },
  {
   "cell_type": "code",
   "execution_count": 29,
   "id": "9a4b2330",
   "metadata": {},
   "outputs": [
    {
     "data": {
      "text/plain": [
       "array([[3.84931977e-13, 1.00000000e+00, 3.23983026e-13],\n",
       "       [3.84931977e-13, 1.00000000e+00, 3.23983026e-13],\n",
       "       [4.19518226e-13, 1.00000000e+00, 3.52381246e-13],\n",
       "       [3.91003444e-13, 1.00000000e+00, 3.29092974e-13],\n",
       "       [3.84931977e-13, 1.00000000e+00, 3.23983026e-13],\n",
       "       [4.48113328e-12, 1.00000000e+00, 3.77065638e-12],\n",
       "       [5.45583643e-01, 0.00000000e+00, 4.54416357e-01],\n",
       "       [3.84931977e-13, 1.00000000e+00, 3.23983026e-13],\n",
       "       [1.00000000e+00, 0.00000000e+00, 0.00000000e+00],\n",
       "       [3.84931977e-13, 1.00000000e+00, 3.23983026e-13]])"
      ]
     },
     "execution_count": 29,
     "metadata": {},
     "output_type": "execute_result"
    }
   ],
   "source": [
    "# print the first 10 predicted probabilities of two classes- 0 and 1\n",
    "\n",
    "y_pred_prob = gnb.predict_proba(X_test)[0:10]\n",
    "\n",
    "y_pred_prob"
   ]
  },
  {
   "cell_type": "code",
   "execution_count": 30,
   "id": "5cf26a21",
   "metadata": {},
   "outputs": [
    {
     "data": {
      "text/html": [
       "<div>\n",
       "<style scoped>\n",
       "    .dataframe tbody tr th:only-of-type {\n",
       "        vertical-align: middle;\n",
       "    }\n",
       "\n",
       "    .dataframe tbody tr th {\n",
       "        vertical-align: top;\n",
       "    }\n",
       "\n",
       "    .dataframe thead th {\n",
       "        text-align: right;\n",
       "    }\n",
       "</style>\n",
       "<table border=\"1\" class=\"dataframe\">\n",
       "  <thead>\n",
       "    <tr style=\"text-align: right;\">\n",
       "      <th></th>\n",
       "      <th>Prob of - Rendah</th>\n",
       "      <th>Prob of - Sedang</th>\n",
       "      <th>Prob of - Tinggi</th>\n",
       "    </tr>\n",
       "  </thead>\n",
       "  <tbody>\n",
       "    <tr>\n",
       "      <th>0</th>\n",
       "      <td>3.849320e-13</td>\n",
       "      <td>1.0</td>\n",
       "      <td>3.239830e-13</td>\n",
       "    </tr>\n",
       "    <tr>\n",
       "      <th>1</th>\n",
       "      <td>3.849320e-13</td>\n",
       "      <td>1.0</td>\n",
       "      <td>3.239830e-13</td>\n",
       "    </tr>\n",
       "    <tr>\n",
       "      <th>2</th>\n",
       "      <td>4.195182e-13</td>\n",
       "      <td>1.0</td>\n",
       "      <td>3.523812e-13</td>\n",
       "    </tr>\n",
       "    <tr>\n",
       "      <th>3</th>\n",
       "      <td>3.910034e-13</td>\n",
       "      <td>1.0</td>\n",
       "      <td>3.290930e-13</td>\n",
       "    </tr>\n",
       "    <tr>\n",
       "      <th>4</th>\n",
       "      <td>3.849320e-13</td>\n",
       "      <td>1.0</td>\n",
       "      <td>3.239830e-13</td>\n",
       "    </tr>\n",
       "    <tr>\n",
       "      <th>5</th>\n",
       "      <td>4.481133e-12</td>\n",
       "      <td>1.0</td>\n",
       "      <td>3.770656e-12</td>\n",
       "    </tr>\n",
       "    <tr>\n",
       "      <th>6</th>\n",
       "      <td>5.455836e-01</td>\n",
       "      <td>0.0</td>\n",
       "      <td>4.544164e-01</td>\n",
       "    </tr>\n",
       "    <tr>\n",
       "      <th>7</th>\n",
       "      <td>3.849320e-13</td>\n",
       "      <td>1.0</td>\n",
       "      <td>3.239830e-13</td>\n",
       "    </tr>\n",
       "    <tr>\n",
       "      <th>8</th>\n",
       "      <td>1.000000e+00</td>\n",
       "      <td>0.0</td>\n",
       "      <td>0.000000e+00</td>\n",
       "    </tr>\n",
       "    <tr>\n",
       "      <th>9</th>\n",
       "      <td>3.849320e-13</td>\n",
       "      <td>1.0</td>\n",
       "      <td>3.239830e-13</td>\n",
       "    </tr>\n",
       "  </tbody>\n",
       "</table>\n",
       "</div>"
      ],
      "text/plain": [
       "   Prob of - Rendah  Prob of - Sedang  Prob of - Tinggi\n",
       "0      3.849320e-13               1.0      3.239830e-13\n",
       "1      3.849320e-13               1.0      3.239830e-13\n",
       "2      4.195182e-13               1.0      3.523812e-13\n",
       "3      3.910034e-13               1.0      3.290930e-13\n",
       "4      3.849320e-13               1.0      3.239830e-13\n",
       "5      4.481133e-12               1.0      3.770656e-12\n",
       "6      5.455836e-01               0.0      4.544164e-01\n",
       "7      3.849320e-13               1.0      3.239830e-13\n",
       "8      1.000000e+00               0.0      0.000000e+00\n",
       "9      3.849320e-13               1.0      3.239830e-13"
      ]
     },
     "execution_count": 30,
     "metadata": {},
     "output_type": "execute_result"
    }
   ],
   "source": [
    "# store the probabilities in dataframe\n",
    "\n",
    "y_pred_prob_df = pd.DataFrame(data=y_pred_prob, columns=['Prob of - Rendah', 'Prob of - Sedang', 'Prob of - Tinggi'])\n",
    "\n",
    "y_pred_prob_df"
   ]
  },
  {
   "cell_type": "code",
   "execution_count": 39,
   "id": "ba5c5525",
   "metadata": {},
   "outputs": [
    {
     "name": "stdout",
     "output_type": "stream",
     "text": [
      "Cross-validation scores:[0.83333333 0.83333333 0.87254902 0.84313725 0.83333333 0.83168317\n",
      " 0.82178218 0.82178218 0.82178218 0.84158416]\n"
     ]
    }
   ],
   "source": [
    "# Applying 10-Fold Cross Validation\n",
    "\n",
    "from sklearn.model_selection import cross_val_score\n",
    "\n",
    "scores = cross_val_score(gnb, X_train, y_train, cv = 10, scoring='accuracy')\n",
    "\n",
    "print('Cross-validation scores:{}'.format(scores))"
   ]
  },
  {
   "cell_type": "code",
   "execution_count": 40,
   "id": "c06ab6ee",
   "metadata": {},
   "outputs": [
    {
     "name": "stdout",
     "output_type": "stream",
     "text": [
      "Average cross-validation score: 0.8354\n"
     ]
    }
   ],
   "source": [
    "# compute Average cross-validation score\n",
    "\n",
    "print('Average cross-validation score: {:.4f}'.format(scores.mean()))"
   ]
  }
 ],
 "metadata": {
  "kernelspec": {
   "display_name": "Python 3.9.9 ('venv': venv)",
   "language": "python",
   "name": "python3"
  },
  "language_info": {
   "codemirror_mode": {
    "name": "ipython",
    "version": 3
   },
   "file_extension": ".py",
   "mimetype": "text/x-python",
   "name": "python",
   "nbconvert_exporter": "python",
   "pygments_lexer": "ipython3",
   "version": "3.9.9"
  },
  "vscode": {
   "interpreter": {
    "hash": "c01a56c445f2f0d7663d58acbfb5fbb7654a2e674229658973562eb056b3b975"
   }
  }
 },
 "nbformat": 4,
 "nbformat_minor": 5
}
